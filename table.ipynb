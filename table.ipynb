{
  "nbformat": 4,
  "nbformat_minor": 0,
  "metadata": {
    "colab": {
      "provenance": [],
      "authorship_tag": "ABX9TyOg6An1Uyj5/NPllAexn+kq",
      "include_colab_link": true
    },
    "kernelspec": {
      "name": "python3",
      "display_name": "Python 3"
    },
    "language_info": {
      "name": "python"
    }
  },
  "cells": [
    {
      "cell_type": "markdown",
      "metadata": {
        "id": "view-in-github",
        "colab_type": "text"
      },
      "source": [
        "<a href=\"https://colab.research.google.com/github/nazalnihad/AI_for_good/blob/main/table.ipynb\" target=\"_parent\"><img src=\"https://colab.research.google.com/assets/colab-badge.svg\" alt=\"Open In Colab\"/></a>"
      ]
    },
    {
      "cell_type": "code",
      "execution_count": null,
      "metadata": {
        "colab": {
          "base_uri": "https://localhost:8080/"
        },
        "id": "eDVqcM4Hdeha",
        "outputId": "a52188e2-a72e-45b2-a07d-98632e660f9a"
      },
      "outputs": [
        {
          "output_type": "stream",
          "name": "stdout",
          "text": [
            "Collecting camelot\n",
            "  Using cached Camelot-12.06.29.tar.gz (3.5 MB)\n",
            "  Preparing metadata (setup.py) ... \u001b[?25l\u001b[?25hdone\n",
            "Collecting SQLAlchemy<0.8.0,>=0.7.7 (from camelot)\n",
            "  Using cached SQLAlchemy-0.7.10.tar.gz (3.5 MB)\n",
            "  Preparing metadata (setup.py) ... \u001b[?25l\u001b[?25hdone\n",
            "Collecting Elixir>=0.7.1 (from camelot)\n",
            "  Using cached Elixir-0.7.1.tar.gz (47 kB)\n",
            "  Preparing metadata (setup.py) ... \u001b[?25l\u001b[?25hdone\n",
            "Collecting sqlalchemy-migrate>=0.7.1 (from camelot)\n",
            "  Using cached sqlalchemy_migrate-0.13.0-py2.py3-none-any.whl (109 kB)\n",
            "Requirement already satisfied: Jinja2>=2.5.5 in /usr/local/lib/python3.10/dist-packages (from camelot) (3.1.2)\n",
            "Requirement already satisfied: chardet>=1.0.1 in /usr/local/lib/python3.10/dist-packages (from camelot) (5.2.0)\n",
            "Collecting xlwt==0.7.2 (from camelot)\n",
            "  Using cached xlwt-0.7.2.zip (131 kB)\n",
            "  Preparing metadata (setup.py) ... \u001b[?25l\u001b[?25hdone\n",
            "Collecting xlrd==0.7.1 (from camelot)\n",
            "  Using cached xlrd-0.7.1.zip (125 kB)\n",
            "  Preparing metadata (setup.py) ... \u001b[?25l\u001b[?25hdone\n",
            "Requirement already satisfied: MarkupSafe>=2.0 in /usr/local/lib/python3.10/dist-packages (from Jinja2>=2.5.5->camelot) (2.1.3)\n",
            "Collecting pbr>=1.8 (from sqlalchemy-migrate>=0.7.1->camelot)\n",
            "  Using cached pbr-6.0.0-py2.py3-none-any.whl (107 kB)\n",
            "INFO: pip is looking at multiple versions of sqlalchemy-migrate to determine which version is compatible with other requirements. This could take a while.\n",
            "Collecting sqlalchemy-migrate>=0.7.1 (from camelot)\n",
            "  Using cached sqlalchemy_migrate-0.12.0-py2.py3-none-any.whl (108 kB)\n",
            "  Using cached sqlalchemy-migrate-0.11.0.tar.gz (128 kB)\n",
            "  \u001b[1;31merror\u001b[0m: \u001b[1msubprocess-exited-with-error\u001b[0m\n",
            "  \n",
            "  \u001b[31m×\u001b[0m \u001b[32mpython setup.py egg_info\u001b[0m did not run successfully.\n",
            "  \u001b[31m│\u001b[0m exit code: \u001b[1;36m1\u001b[0m\n",
            "  \u001b[31m╰─>\u001b[0m See above for output.\n",
            "  \n",
            "  \u001b[1;35mnote\u001b[0m: This error originates from a subprocess, and is likely not a problem with pip.\n",
            "  Preparing metadata (setup.py) ... \u001b[?25l\u001b[?25herror\n",
            "\u001b[1;31merror\u001b[0m: \u001b[1mmetadata-generation-failed\u001b[0m\n",
            "\n",
            "\u001b[31m×\u001b[0m Encountered error while generating package metadata.\n",
            "\u001b[31m╰─>\u001b[0m See above for output.\n",
            "\n",
            "\u001b[1;35mnote\u001b[0m: This is an issue with the package mentioned above, not pip.\n",
            "\u001b[1;36mhint\u001b[0m: See above for details.\n"
          ]
        }
      ],
      "source": [
        "pip install camelot"
      ]
    },
    {
      "cell_type": "code",
      "source": [
        "!pip install ghostscript\n",
        "!pip install camelot-py[cv]\n",
        "!pip install excalibur-py\n",
        "!apt install ghostscript python3-tk"
      ],
      "metadata": {
        "colab": {
          "base_uri": "https://localhost:8080/"
        },
        "id": "hgCXs8Z4H2pN",
        "outputId": "ec4a17ef-0e9a-4f55-eea6-bb782deb1d0f"
      },
      "execution_count": null,
      "outputs": [
        {
          "output_type": "stream",
          "name": "stdout",
          "text": [
            "Requirement already satisfied: ghostscript in /usr/local/lib/python3.10/dist-packages (0.7)\n",
            "Requirement already satisfied: setuptools>=38.6.0 in /usr/local/lib/python3.10/dist-packages (from ghostscript) (67.7.2)\n",
            "Requirement already satisfied: camelot-py[cv] in /usr/local/lib/python3.10/dist-packages (0.9.0)\n",
            "Requirement already satisfied: chardet>=3.0.4 in /usr/local/lib/python3.10/dist-packages (from camelot-py[cv]) (5.2.0)\n",
            "Requirement already satisfied: click>=6.7 in /usr/local/lib/python3.10/dist-packages (from camelot-py[cv]) (8.1.7)\n",
            "Requirement already satisfied: numpy>=1.13.3 in /usr/local/lib/python3.10/dist-packages (from camelot-py[cv]) (1.23.5)\n",
            "Requirement already satisfied: openpyxl>=2.5.8 in /usr/local/lib/python3.10/dist-packages (from camelot-py[cv]) (3.1.2)\n",
            "Requirement already satisfied: pandas>=0.23.4 in /usr/local/lib/python3.10/dist-packages (from camelot-py[cv]) (1.5.3)\n",
            "Requirement already satisfied: pdfminer.six>=20200726 in /usr/local/lib/python3.10/dist-packages (from camelot-py[cv]) (20221105)\n",
            "Requirement already satisfied: PyPDF2>=1.26.0 in /usr/local/lib/python3.10/dist-packages (from camelot-py[cv]) (2.1.0)\n",
            "Requirement already satisfied: opencv-python>=3.4.2.17 in /usr/local/lib/python3.10/dist-packages (from camelot-py[cv]) (4.8.0.76)\n",
            "Requirement already satisfied: et-xmlfile in /usr/local/lib/python3.10/dist-packages (from openpyxl>=2.5.8->camelot-py[cv]) (1.1.0)\n",
            "Requirement already satisfied: python-dateutil>=2.8.1 in /usr/local/lib/python3.10/dist-packages (from pandas>=0.23.4->camelot-py[cv]) (2.8.2)\n",
            "Requirement already satisfied: pytz>=2020.1 in /usr/local/lib/python3.10/dist-packages (from pandas>=0.23.4->camelot-py[cv]) (2023.3.post1)\n",
            "Requirement already satisfied: charset-normalizer>=2.0.0 in /usr/local/lib/python3.10/dist-packages (from pdfminer.six>=20200726->camelot-py[cv]) (3.3.2)\n",
            "Requirement already satisfied: cryptography>=36.0.0 in /usr/local/lib/python3.10/dist-packages (from pdfminer.six>=20200726->camelot-py[cv]) (41.0.7)\n",
            "Requirement already satisfied: cffi>=1.12 in /usr/local/lib/python3.10/dist-packages (from cryptography>=36.0.0->pdfminer.six>=20200726->camelot-py[cv]) (1.16.0)\n",
            "Requirement already satisfied: six>=1.5 in /usr/local/lib/python3.10/dist-packages (from python-dateutil>=2.8.1->pandas>=0.23.4->camelot-py[cv]) (1.16.0)\n",
            "Requirement already satisfied: pycparser in /usr/local/lib/python3.10/dist-packages (from cffi>=1.12->cryptography>=36.0.0->pdfminer.six>=20200726->camelot-py[cv]) (2.21)\n",
            "Requirement already satisfied: excalibur-py in /usr/local/lib/python3.10/dist-packages (0.4.3)\n",
            "Requirement already satisfied: camelot-py[cv]>=0.7.1 in /usr/local/lib/python3.10/dist-packages (from excalibur-py) (0.9.0)\n",
            "Requirement already satisfied: celery>=4.1.1 in /usr/local/lib/python3.10/dist-packages (from excalibur-py) (5.3.6)\n",
            "Requirement already satisfied: Click>=7.0 in /usr/local/lib/python3.10/dist-packages (from excalibur-py) (8.1.7)\n",
            "Requirement already satisfied: configparser<3.6.0,>=3.5.0 in /usr/local/lib/python3.10/dist-packages (from excalibur-py) (3.5.3)\n",
            "Requirement already satisfied: Flask>=1.0.2 in /usr/local/lib/python3.10/dist-packages (from excalibur-py) (1.1.2)\n",
            "Requirement already satisfied: SQLAlchemy>=1.2.12 in /usr/local/lib/python3.10/dist-packages (from excalibur-py) (2.0.23)\n",
            "Requirement already satisfied: Werkzeug<1.0.0 in /usr/local/lib/python3.10/dist-packages (from excalibur-py) (0.16.1)\n",
            "Requirement already satisfied: chardet>=3.0.4 in /usr/local/lib/python3.10/dist-packages (from camelot-py[cv]>=0.7.1->excalibur-py) (5.2.0)\n",
            "Requirement already satisfied: numpy>=1.13.3 in /usr/local/lib/python3.10/dist-packages (from camelot-py[cv]>=0.7.1->excalibur-py) (1.23.5)\n",
            "Requirement already satisfied: openpyxl>=2.5.8 in /usr/local/lib/python3.10/dist-packages (from camelot-py[cv]>=0.7.1->excalibur-py) (3.1.2)\n",
            "Requirement already satisfied: pandas>=0.23.4 in /usr/local/lib/python3.10/dist-packages (from camelot-py[cv]>=0.7.1->excalibur-py) (1.5.3)\n",
            "Requirement already satisfied: pdfminer.six>=20200726 in /usr/local/lib/python3.10/dist-packages (from camelot-py[cv]>=0.7.1->excalibur-py) (20221105)\n",
            "Requirement already satisfied: PyPDF2>=1.26.0 in /usr/local/lib/python3.10/dist-packages (from camelot-py[cv]>=0.7.1->excalibur-py) (2.1.0)\n",
            "Requirement already satisfied: opencv-python>=3.4.2.17 in /usr/local/lib/python3.10/dist-packages (from camelot-py[cv]>=0.7.1->excalibur-py) (4.8.0.76)\n",
            "Requirement already satisfied: billiard<5.0,>=4.2.0 in /usr/local/lib/python3.10/dist-packages (from celery>=4.1.1->excalibur-py) (4.2.0)\n",
            "Requirement already satisfied: click-didyoumean>=0.3.0 in /usr/local/lib/python3.10/dist-packages (from celery>=4.1.1->excalibur-py) (0.3.0)\n",
            "Requirement already satisfied: click-plugins>=1.1.1 in /usr/local/lib/python3.10/dist-packages (from celery>=4.1.1->excalibur-py) (1.1.1)\n",
            "Requirement already satisfied: click-repl>=0.2.0 in /usr/local/lib/python3.10/dist-packages (from celery>=4.1.1->excalibur-py) (0.3.0)\n",
            "Requirement already satisfied: kombu<6.0,>=5.3.4 in /usr/local/lib/python3.10/dist-packages (from celery>=4.1.1->excalibur-py) (5.3.4)\n",
            "Requirement already satisfied: python-dateutil>=2.8.2 in /usr/local/lib/python3.10/dist-packages (from celery>=4.1.1->excalibur-py) (2.8.2)\n",
            "Requirement already satisfied: tzdata>=2022.7 in /usr/local/lib/python3.10/dist-packages (from celery>=4.1.1->excalibur-py) (2023.3)\n",
            "Requirement already satisfied: vine<6.0,>=5.1.0 in /usr/local/lib/python3.10/dist-packages (from celery>=4.1.1->excalibur-py) (5.1.0)\n",
            "Requirement already satisfied: Jinja2>=2.10.1 in /usr/local/lib/python3.10/dist-packages (from Flask>=1.0.2->excalibur-py) (3.1.2)\n",
            "Requirement already satisfied: itsdangerous>=0.24 in /usr/local/lib/python3.10/dist-packages (from Flask>=1.0.2->excalibur-py) (2.1.2)\n",
            "Requirement already satisfied: typing-extensions>=4.2.0 in /usr/local/lib/python3.10/dist-packages (from SQLAlchemy>=1.2.12->excalibur-py) (4.5.0)\n",
            "Requirement already satisfied: greenlet!=0.4.17 in /usr/local/lib/python3.10/dist-packages (from SQLAlchemy>=1.2.12->excalibur-py) (3.0.2)\n",
            "Requirement already satisfied: prompt-toolkit>=3.0.36 in /usr/local/lib/python3.10/dist-packages (from click-repl>=0.2.0->celery>=4.1.1->excalibur-py) (3.0.43)\n",
            "Requirement already satisfied: MarkupSafe>=2.0 in /usr/local/lib/python3.10/dist-packages (from Jinja2>=2.10.1->Flask>=1.0.2->excalibur-py) (2.1.3)\n",
            "Requirement already satisfied: amqp<6.0.0,>=5.1.1 in /usr/local/lib/python3.10/dist-packages (from kombu<6.0,>=5.3.4->celery>=4.1.1->excalibur-py) (5.2.0)\n",
            "Requirement already satisfied: et-xmlfile in /usr/local/lib/python3.10/dist-packages (from openpyxl>=2.5.8->camelot-py[cv]>=0.7.1->excalibur-py) (1.1.0)\n",
            "Requirement already satisfied: pytz>=2020.1 in /usr/local/lib/python3.10/dist-packages (from pandas>=0.23.4->camelot-py[cv]>=0.7.1->excalibur-py) (2023.3.post1)\n",
            "Requirement already satisfied: charset-normalizer>=2.0.0 in /usr/local/lib/python3.10/dist-packages (from pdfminer.six>=20200726->camelot-py[cv]>=0.7.1->excalibur-py) (3.3.2)\n",
            "Requirement already satisfied: cryptography>=36.0.0 in /usr/local/lib/python3.10/dist-packages (from pdfminer.six>=20200726->camelot-py[cv]>=0.7.1->excalibur-py) (41.0.7)\n",
            "Requirement already satisfied: six>=1.5 in /usr/local/lib/python3.10/dist-packages (from python-dateutil>=2.8.2->celery>=4.1.1->excalibur-py) (1.16.0)\n",
            "Requirement already satisfied: cffi>=1.12 in /usr/local/lib/python3.10/dist-packages (from cryptography>=36.0.0->pdfminer.six>=20200726->camelot-py[cv]>=0.7.1->excalibur-py) (1.16.0)\n",
            "Requirement already satisfied: wcwidth in /usr/local/lib/python3.10/dist-packages (from prompt-toolkit>=3.0.36->click-repl>=0.2.0->celery>=4.1.1->excalibur-py) (0.2.12)\n",
            "Requirement already satisfied: pycparser in /usr/local/lib/python3.10/dist-packages (from cffi>=1.12->cryptography>=36.0.0->pdfminer.six>=20200726->camelot-py[cv]>=0.7.1->excalibur-py) (2.21)\n",
            "Reading package lists... Done\n",
            "Building dependency tree... Done\n",
            "Reading state information... Done\n",
            "ghostscript is already the newest version (9.55.0~dfsg1-0ubuntu5.6).\n",
            "python3-tk is already the newest version (3.10.8-1~22.04).\n",
            "0 upgraded, 0 newly installed, 0 to remove and 24 not upgraded.\n"
          ]
        }
      ]
    },
    {
      "cell_type": "code",
      "source": [
        "pip install PyPDF2==2.01.0"
      ],
      "metadata": {
        "colab": {
          "base_uri": "https://localhost:8080/"
        },
        "id": "6Vci7hjWIWgP",
        "outputId": "fe1ec73c-ea7f-4536-c2ac-b5e4b0bfd19e"
      },
      "execution_count": null,
      "outputs": [
        {
          "output_type": "stream",
          "name": "stdout",
          "text": [
            "Requirement already satisfied: PyPDF2==2.01.0 in /usr/local/lib/python3.10/dist-packages (2.1.0)\n"
          ]
        }
      ]
    },
    {
      "cell_type": "code",
      "source": [
        "import camelot\n",
        "\n",
        "file_path = \"farm.pdf\"\n",
        "\n",
        "# Try both flavors\n",
        "# tables_stream = camelot.read_pdf(file_path, pages=\"all\", flavor=\"stream\")\n",
        "tables_lattice = camelot.read_pdf(file_path, pages=\"all\")\n",
        "\n",
        "# Choose the flavor that returns more tables\n",
        "if len(tables_stream) > len(tables_lattice):\n",
        "    tables = tables_stream\n",
        "else:\n",
        "    tables = tables_lattice\n"
      ],
      "metadata": {
        "id": "88VcePcMdk1D",
        "colab": {
          "base_uri": "https://localhost:8080/",
          "height": 246
        },
        "outputId": "a634383d-734b-4788-f0ed-decad14d126d"
      },
      "execution_count": null,
      "outputs": [
        {
          "output_type": "error",
          "ename": "NameError",
          "evalue": "ignored",
          "traceback": [
            "\u001b[0;31m---------------------------------------------------------------------------\u001b[0m",
            "\u001b[0;31mNameError\u001b[0m                                 Traceback (most recent call last)",
            "\u001b[0;32m<ipython-input-29-1c76fac56ba8>\u001b[0m in \u001b[0;36m<cell line: 10>\u001b[0;34m()\u001b[0m\n\u001b[1;32m      8\u001b[0m \u001b[0;34m\u001b[0m\u001b[0m\n\u001b[1;32m      9\u001b[0m \u001b[0;31m# Choose the flavor that returns more tables\u001b[0m\u001b[0;34m\u001b[0m\u001b[0;34m\u001b[0m\u001b[0m\n\u001b[0;32m---> 10\u001b[0;31m \u001b[0;32mif\u001b[0m \u001b[0mlen\u001b[0m\u001b[0;34m(\u001b[0m\u001b[0mtables_stream\u001b[0m\u001b[0;34m)\u001b[0m \u001b[0;34m>\u001b[0m \u001b[0mlen\u001b[0m\u001b[0;34m(\u001b[0m\u001b[0mtables_lattice\u001b[0m\u001b[0;34m)\u001b[0m\u001b[0;34m:\u001b[0m\u001b[0;34m\u001b[0m\u001b[0;34m\u001b[0m\u001b[0m\n\u001b[0m\u001b[1;32m     11\u001b[0m     \u001b[0mtables\u001b[0m \u001b[0;34m=\u001b[0m \u001b[0mtables_stream\u001b[0m\u001b[0;34m\u001b[0m\u001b[0;34m\u001b[0m\u001b[0m\n\u001b[1;32m     12\u001b[0m \u001b[0;32melse\u001b[0m\u001b[0;34m:\u001b[0m\u001b[0;34m\u001b[0m\u001b[0;34m\u001b[0m\u001b[0m\n",
            "\u001b[0;31mNameError\u001b[0m: name 'tables_stream' is not defined"
          ]
        }
      ]
    },
    {
      "cell_type": "code",
      "source": [
        "import camelot\n",
        "\n",
        "# Specify the PDF file path\n",
        "file_path = \"farm.pdf\"\n",
        "\n",
        "# Specify the pages you want to extract tables from\n",
        "pages = \"all\"\n",
        "\n",
        "# Read PDF using camelot\n",
        "tables_lattice = camelot.read_pdf(file_path, pages=pages, flavor=\"lattice\")\n"
      ],
      "metadata": {
        "id": "2wuxOFBmHhoa"
      },
      "execution_count": null,
      "outputs": []
    },
    {
      "cell_type": "code",
      "source": [
        "tables = camelot.read_pdf(file_path, pages=\"all\", flavor=\"stream\", edge_tol=500)"
      ],
      "metadata": {
        "id": "VCyFDTHSd4U9"
      },
      "execution_count": null,
      "outputs": []
    },
    {
      "cell_type": "code",
      "source": [
        "import pandas as pd\n",
        "\n",
        "# Store all dataframes in a list\n",
        "dfs = [table.df for table in tables_lattice]\n",
        "\n",
        "# Iterate over the dataframes and append if necessary\n",
        "for i in range(len(dfs) - 1):\n",
        "    # Check if the last row of the current table and the first row of the next table have similar data types\n",
        "    if dfs[i].iloc[-1].dtypes.equals(dfs[i+1].iloc[0].dtypes):\n",
        "        # Append the tables\n",
        "        dfs[i] = dfs[i].append(dfs[i+1])\n",
        "        # Remove the next table from the list as it has been appended to the current table\n",
        "        dfs.pop(i+1)\n",
        "\n",
        "# Concatenate all dataframes in the list\n",
        "combined_df = pd.concat(dfs, axis=0)\n"
      ],
      "metadata": {
        "id": "7vroR28Xdt1t",
        "colab": {
          "base_uri": "https://localhost:8080/",
          "height": 246
        },
        "outputId": "41490eb5-a55d-408b-c6d2-bde3180692bb"
      },
      "execution_count": null,
      "outputs": [
        {
          "output_type": "error",
          "ename": "AttributeError",
          "evalue": "ignored",
          "traceback": [
            "\u001b[0;31m---------------------------------------------------------------------------\u001b[0m",
            "\u001b[0;31mAttributeError\u001b[0m                            Traceback (most recent call last)",
            "\u001b[0;32m<ipython-input-31-f511cda3694e>\u001b[0m in \u001b[0;36m<cell line: 7>\u001b[0;34m()\u001b[0m\n\u001b[1;32m      7\u001b[0m \u001b[0;32mfor\u001b[0m \u001b[0mi\u001b[0m \u001b[0;32min\u001b[0m \u001b[0mrange\u001b[0m\u001b[0;34m(\u001b[0m\u001b[0mlen\u001b[0m\u001b[0;34m(\u001b[0m\u001b[0mdfs\u001b[0m\u001b[0;34m)\u001b[0m \u001b[0;34m-\u001b[0m \u001b[0;36m1\u001b[0m\u001b[0;34m)\u001b[0m\u001b[0;34m:\u001b[0m\u001b[0;34m\u001b[0m\u001b[0;34m\u001b[0m\u001b[0m\n\u001b[1;32m      8\u001b[0m     \u001b[0;31m# Check if the last row of the current table and the first row of the next table have similar data types\u001b[0m\u001b[0;34m\u001b[0m\u001b[0;34m\u001b[0m\u001b[0m\n\u001b[0;32m----> 9\u001b[0;31m     \u001b[0;32mif\u001b[0m \u001b[0mdfs\u001b[0m\u001b[0;34m[\u001b[0m\u001b[0mi\u001b[0m\u001b[0;34m]\u001b[0m\u001b[0;34m.\u001b[0m\u001b[0miloc\u001b[0m\u001b[0;34m[\u001b[0m\u001b[0;34m-\u001b[0m\u001b[0;36m1\u001b[0m\u001b[0;34m]\u001b[0m\u001b[0;34m.\u001b[0m\u001b[0mdtypes\u001b[0m\u001b[0;34m.\u001b[0m\u001b[0mequals\u001b[0m\u001b[0;34m(\u001b[0m\u001b[0mdfs\u001b[0m\u001b[0;34m[\u001b[0m\u001b[0mi\u001b[0m\u001b[0;34m+\u001b[0m\u001b[0;36m1\u001b[0m\u001b[0;34m]\u001b[0m\u001b[0;34m.\u001b[0m\u001b[0miloc\u001b[0m\u001b[0;34m[\u001b[0m\u001b[0;36m0\u001b[0m\u001b[0;34m]\u001b[0m\u001b[0;34m.\u001b[0m\u001b[0mdtypes\u001b[0m\u001b[0;34m)\u001b[0m\u001b[0;34m:\u001b[0m\u001b[0;34m\u001b[0m\u001b[0;34m\u001b[0m\u001b[0m\n\u001b[0m\u001b[1;32m     10\u001b[0m         \u001b[0;31m# Append the tables\u001b[0m\u001b[0;34m\u001b[0m\u001b[0;34m\u001b[0m\u001b[0m\n\u001b[1;32m     11\u001b[0m         \u001b[0mdfs\u001b[0m\u001b[0;34m[\u001b[0m\u001b[0mi\u001b[0m\u001b[0;34m]\u001b[0m \u001b[0;34m=\u001b[0m \u001b[0mdfs\u001b[0m\u001b[0;34m[\u001b[0m\u001b[0mi\u001b[0m\u001b[0;34m]\u001b[0m\u001b[0;34m.\u001b[0m\u001b[0mappend\u001b[0m\u001b[0;34m(\u001b[0m\u001b[0mdfs\u001b[0m\u001b[0;34m[\u001b[0m\u001b[0mi\u001b[0m\u001b[0;34m+\u001b[0m\u001b[0;36m1\u001b[0m\u001b[0;34m]\u001b[0m\u001b[0;34m)\u001b[0m\u001b[0;34m\u001b[0m\u001b[0;34m\u001b[0m\u001b[0m\n",
            "\u001b[0;31mAttributeError\u001b[0m: 'numpy.dtype[object_]' object has no attribute 'equals'"
          ]
        }
      ]
    },
    {
      "cell_type": "code",
      "source": [
        "tables_lattice[3].df"
      ],
      "metadata": {
        "id": "T5EsaK098UfP"
      },
      "execution_count": null,
      "outputs": []
    },
    {
      "cell_type": "code",
      "source": [
        "import pandas as pd\n",
        "\n",
        "# Assuming tables_lattice is a list of Camelot Table objects\n",
        "dfs = [table.df for table in tables_lattice]\n",
        "\n",
        "# Function to check if the majority of a row's elements are numeric\n",
        "def is_mostly_numeric(row):\n",
        "    numeric_count = 0\n",
        "    for item in row:\n",
        "        try:\n",
        "            # Check if the item can be converted to a float\n",
        "            float(item)\n",
        "            numeric_count += 1\n",
        "        except ValueError:\n",
        "            continue\n",
        "    return numeric_count >= len(row) / 2\n",
        "\n",
        "finalised_tables = []  # Array to hold the final tables\n",
        "\n",
        "i = 0\n",
        "while i < len(dfs):\n",
        "    if dfs[i].empty:\n",
        "        i += 1\n",
        "        continue\n",
        "\n",
        "    # Check if there's a next table and if it can be concatenated\n",
        "    if i < len(dfs) - 1 and not dfs[i + 1].empty:\n",
        "        last_row = dfs[i].iloc[-1]\n",
        "        first_row_next = dfs[i + 1].iloc[0]\n",
        "\n",
        "        if (len(last_row) == len(first_row_next)) and (is_mostly_numeric(last_row) == is_mostly_numeric(first_row_next)):\n",
        "            # Concatenate the tables and add to finalised_tables\n",
        "            concatenated_table = pd.concat([dfs[i], dfs[i + 1]]).reset_index(drop=True)\n",
        "            finalised_tables.append(concatenated_table)\n",
        "            i += 2  # Skip the next table as it's already concatenated\n",
        "            continue\n",
        "\n",
        "    # Add the current table as it is\n",
        "    finalised_tables.append(dfs[i])\n",
        "    i += 1"
      ],
      "metadata": {
        "colab": {
          "base_uri": "https://localhost:8080/",
          "height": 332
        },
        "id": "aSfud9dC88rR",
        "outputId": "3df104cb-3258-43d5-b674-2ebb05d301f2"
      },
      "execution_count": null,
      "outputs": [
        {
          "output_type": "error",
          "ename": "AttributeError",
          "evalue": "ignored",
          "traceback": [
            "\u001b[0;31m---------------------------------------------------------------------------\u001b[0m",
            "\u001b[0;31mAttributeError\u001b[0m                            Traceback (most recent call last)",
            "\u001b[0;32m<ipython-input-45-d9200062e27a>\u001b[0m in \u001b[0;36m<cell line: 43>\u001b[0;34m()\u001b[0m\n\u001b[1;32m     42\u001b[0m \u001b[0;31m# Print the finalised tables\u001b[0m\u001b[0;34m\u001b[0m\u001b[0;34m\u001b[0m\u001b[0m\n\u001b[1;32m     43\u001b[0m \u001b[0;32mfor\u001b[0m \u001b[0mtable\u001b[0m \u001b[0;32min\u001b[0m \u001b[0mfinalised_tables\u001b[0m\u001b[0;34m:\u001b[0m\u001b[0;34m\u001b[0m\u001b[0;34m\u001b[0m\u001b[0m\n\u001b[0;32m---> 44\u001b[0;31m     \u001b[0mprint\u001b[0m\u001b[0;34m(\u001b[0m\u001b[0mtable\u001b[0m\u001b[0;34m.\u001b[0m\u001b[0mdf\u001b[0m\u001b[0;34m)\u001b[0m\u001b[0;34m\u001b[0m\u001b[0;34m\u001b[0m\u001b[0m\n\u001b[0m",
            "\u001b[0;32m/usr/local/lib/python3.10/dist-packages/pandas/core/generic.py\u001b[0m in \u001b[0;36m__getattr__\u001b[0;34m(self, name)\u001b[0m\n\u001b[1;32m   5900\u001b[0m         ):\n\u001b[1;32m   5901\u001b[0m             \u001b[0;32mreturn\u001b[0m \u001b[0mself\u001b[0m\u001b[0;34m[\u001b[0m\u001b[0mname\u001b[0m\u001b[0;34m]\u001b[0m\u001b[0;34m\u001b[0m\u001b[0;34m\u001b[0m\u001b[0m\n\u001b[0;32m-> 5902\u001b[0;31m         \u001b[0;32mreturn\u001b[0m \u001b[0mobject\u001b[0m\u001b[0;34m.\u001b[0m\u001b[0m__getattribute__\u001b[0m\u001b[0;34m(\u001b[0m\u001b[0mself\u001b[0m\u001b[0;34m,\u001b[0m \u001b[0mname\u001b[0m\u001b[0;34m)\u001b[0m\u001b[0;34m\u001b[0m\u001b[0;34m\u001b[0m\u001b[0m\n\u001b[0m\u001b[1;32m   5903\u001b[0m \u001b[0;34m\u001b[0m\u001b[0m\n\u001b[1;32m   5904\u001b[0m     \u001b[0;32mdef\u001b[0m \u001b[0m__setattr__\u001b[0m\u001b[0;34m(\u001b[0m\u001b[0mself\u001b[0m\u001b[0;34m,\u001b[0m \u001b[0mname\u001b[0m\u001b[0;34m:\u001b[0m \u001b[0mstr\u001b[0m\u001b[0;34m,\u001b[0m \u001b[0mvalue\u001b[0m\u001b[0;34m)\u001b[0m \u001b[0;34m->\u001b[0m \u001b[0;32mNone\u001b[0m\u001b[0;34m:\u001b[0m\u001b[0;34m\u001b[0m\u001b[0;34m\u001b[0m\u001b[0m\n",
            "\u001b[0;31mAttributeError\u001b[0m: 'DataFrame' object has no attribute 'df'"
          ]
        }
      ]
    },
    {
      "cell_type": "code",
      "source": [
        "for i,table in enumerate(finalised_tables):\n",
        "    print(\"=\"*20)\n",
        "    print(\"table \",i)\n",
        "    print(table)\n",
        "    print(\"=\"*20)"
      ],
      "metadata": {
        "colab": {
          "base_uri": "https://localhost:8080/"
        },
        "id": "p9u7qwlB9XfI",
        "outputId": "160b254e-4a7e-45b2-affe-34e639be9802"
      },
      "execution_count": null,
      "outputs": [
        {
          "output_type": "stream",
          "name": "stdout",
          "text": [
            "====================\n",
            "table  0\n",
            "                                                   0      1\n",
            "0  Percentage of farming inputs purchased through...  Marks\n",
            "1                                              75% +     10\n",
            "2                                       60% + to 75%      8\n",
            "3                                       50% + to 60%      6\n",
            "4                                       40% + to 50%      4\n",
            "5                                         30% ते 40%      2\n",
            "6                                       Less than 30      0\n",
            "====================\n",
            "====================\n",
            "table  1\n",
            "                                                   0      1\n",
            "0  Percentage of irrigated land under water savin...  Marks\n",
            "1                                              75% +      5\n",
            "2                                       70% + ते 75%      4\n",
            "3                                       65% + ते 70%      3\n",
            "4                                       60% + ते 65%      2\n",
            "5                                         55% ते 60%      1\n",
            "6                                      Less than 55%      0\n",
            "====================\n",
            "====================\n",
            "table  2\n",
            "                                                   0      1\n",
            "0  Percentage of the total revenue of the gat tha...  Marks\n",
            "1                                              75% +     10\n",
            "2                                       60% + to 75%      8\n",
            "3                                       50% + to 60%      6\n",
            "4                                       40% + to 50%      4\n",
            "5                                         30% to 40%      2\n",
            "6                                      Less than 30%      0\n",
            "====================\n",
            "====================\n",
            "table  3\n",
            "                                                   0      1\n",
            "0  Percentage of Members of the gat who enter cos...  Marks\n",
            "1                                              50% +      5\n",
            "2                                       40% + to 50%      4\n",
            "3                                       30% + to 40%      3\n",
            "4                                       20% + to 30%      2\n",
            "5                                         10% to 20%      1\n",
            "6                                      Less than 10%      0\n",
            "====================\n",
            "====================\n",
            "table  4\n",
            "                      0      1\n",
            "0  Profit per acre (Rs)  Marks\n",
            "1              50,000 +     20\n",
            "2    40,000 + to 50,000     16\n",
            "3    30,000 + to 40,000     12\n",
            "4     20,000+ to 30,000      8\n",
            "5     10,000+ to 20,000      4\n",
            "6        10,000 or less      0\n",
            "====================\n",
            "====================\n",
            "table  5\n",
            "                   0      1\n",
            "0  Profit percentage  Marks\n",
            "1              100%+     20\n",
            "2       60%+ to 100%     15\n",
            "3        40%+ to 60%     12\n",
            "4        25%+ to 40%      8\n",
            "5     10%+ to ते 25%      5\n",
            "6        10% or less      0\n",
            "====================\n",
            "====================\n",
            "table  6\n",
            "                            0  \\\n",
            "0                Name of Crop   \n",
            "1                       Bajra   \n",
            "2                       Maize   \n",
            "3                   Kh. Paddy   \n",
            "4                   Kh. Jowar   \n",
            "5                        Ragi   \n",
            "6                         Tur   \n",
            "7                       Moong   \n",
            "8                        Udid   \n",
            "9                   Groundnut   \n",
            "10                    Soybean   \n",
            "11                     Cotton   \n",
            "12             Coriander Seed   \n",
            "13                     Ajwain   \n",
            "14                      Beans   \n",
            "15                    Cabbage   \n",
            "16                Cauliflower   \n",
            "17                   Capsicum   \n",
            "18                    Brinjal   \n",
            "19                       Okra   \n",
            "20                  Kh. Onion   \n",
            "21                  Ivy gourd   \n",
            "22                     Potato   \n",
            "23               Sweet Potato   \n",
            "24                    Pumpkin   \n",
            "25                     Tomato   \n",
            "26               Bitter gourd   \n",
            "27               Bottle gourd   \n",
            "28              Pointed gourd   \n",
            "29                Ridge gourd   \n",
            "30               Sponge gourd   \n",
            "31                       Peas   \n",
            "32                Green Chili   \n",
            "33                  Coriander   \n",
            "34                  Fenugreek   \n",
            "35       Leafy Veg. (Spinach)   \n",
            "36  Other Veg. (Cluster bean)   \n",
            "\n",
            "                                                    1  \n",
            "0   Production Cost/Acre in Rs\\nBased on Govt. of ...  \n",
            "1                                            14317.39  \n",
            "2                                            24302.07  \n",
            "3                                            23260.31  \n",
            "4                                            18182.56  \n",
            "5                                            11099.19  \n",
            "6                                            22604.45  \n",
            "7                                            17638.09  \n",
            "8                                            15482.25  \n",
            "9                                            32588.52  \n",
            "10                                              20718  \n",
            "11                                           26476.78  \n",
            "12                                           17236.61  \n",
            "13                                              27852  \n",
            "14                                           70910.82  \n",
            "15                                            63710.1  \n",
            "16                                            60283.5  \n",
            "17                                           96244.67  \n",
            "18                                           75618.92  \n",
            "19                                           50973.45  \n",
            "20                                           38976.16  \n",
            "21                                           68330.43  \n",
            "22                                           89096.67  \n",
            "23                                           47356.71  \n",
            "24                                           75348.73  \n",
            "25                                           82125.69  \n",
            "26                                           74200.78  \n",
            "27                                           46990.83  \n",
            "28                                           45223.84  \n",
            "29                                           63444.83  \n",
            "30                                           75829.71  \n",
            "31                                           38214.89  \n",
            "32                                           70140.69  \n",
            "33                                           23554.54  \n",
            "34                                           25019.89  \n",
            "35                                           28404.51  \n",
            "36                                           29119.35  \n",
            "====================\n"
          ]
        }
      ]
    },
    {
      "cell_type": "code",
      "source": [
        "for i,table in enumerate(tables_lattice):\n",
        "    print(\"=\"*20)\n",
        "    print(\"table \",i)\n",
        "    print(table.df)\n",
        "    print(\"=\"*20)"
      ],
      "metadata": {
        "id": "sGqOaswc9uH2",
        "colab": {
          "base_uri": "https://localhost:8080/"
        },
        "outputId": "29c9d622-91cd-4ef8-a1ea-61074a610916"
      },
      "execution_count": 52,
      "outputs": [
        {
          "output_type": "stream",
          "name": "stdout",
          "text": [
            "====================\n",
            "table  0\n",
            "                                                   0      1\n",
            "0  Percentage of farming inputs purchased through...  Marks\n",
            "1                                              75% +     10\n",
            "2                                       60% + to 75%      8\n",
            "3                                       50% + to 60%      6\n",
            "4                                       40% + to 50%      4\n",
            "5                                         30% ते 40%      2\n",
            "6                                       Less than 30      0\n",
            "====================\n",
            "====================\n",
            "table  1\n",
            "                                                   0      1\n",
            "0  Percentage of irrigated land under water savin...  Marks\n",
            "1                                              75% +      5\n",
            "2                                       70% + ते 75%      4\n",
            "3                                       65% + ते 70%      3\n",
            "4                                       60% + ते 65%      2\n",
            "5                                         55% ते 60%      1\n",
            "6                                      Less than 55%      0\n",
            "====================\n",
            "====================\n",
            "table  2\n",
            "                                                   0      1\n",
            "0  Percentage of the total revenue of the gat tha...  Marks\n",
            "1                                              75% +     10\n",
            "2                                       60% + to 75%      8\n",
            "3                                       50% + to 60%      6\n",
            "====================\n",
            "====================\n",
            "table  3\n",
            "               0  1\n",
            "0   40% + to 50%  4\n",
            "1     30% to 40%  2\n",
            "2  Less than 30%  0\n",
            "====================\n",
            "====================\n",
            "table  4\n",
            "                                                   0      1\n",
            "0  Percentage of Members of the gat who enter cos...  Marks\n",
            "1                                              50% +      5\n",
            "2                                       40% + to 50%      4\n",
            "3                                       30% + to 40%      3\n",
            "====================\n",
            "====================\n",
            "table  5\n",
            "               0  1\n",
            "0   20% + to 30%  2\n",
            "1     10% to 20%  1\n",
            "2  Less than 10%  0\n",
            "====================\n",
            "====================\n",
            "table  6\n",
            "                      0      1\n",
            "0  Profit per acre (Rs)  Marks\n",
            "1              50,000 +     20\n",
            "2    40,000 + to 50,000     16\n",
            "3    30,000 + to 40,000     12\n",
            "4     20,000+ to 30,000      8\n",
            "5     10,000+ to 20,000      4\n",
            "6        10,000 or less      0\n",
            "====================\n",
            "====================\n",
            "table  7\n",
            "                   0      1\n",
            "0  Profit percentage  Marks\n",
            "1              100%+     20\n",
            "2       60%+ to 100%     15\n",
            "3        40%+ to 60%     12\n",
            "====================\n",
            "====================\n",
            "table  8\n",
            "                0  1\n",
            "0     25%+ to 40%  8\n",
            "1  10%+ to ते 25%  5\n",
            "2     10% or less  0\n",
            "====================\n",
            "====================\n",
            "table  9\n",
            "                 0                                                  1\n",
            "0     Name of Crop  Production Cost/Acre in Rs\\nBased on Govt. of ...\n",
            "1            Bajra                                           14317.39\n",
            "2            Maize                                           24302.07\n",
            "3        Kh. Paddy                                           23260.31\n",
            "4        Kh. Jowar                                           18182.56\n",
            "5             Ragi                                           11099.19\n",
            "6              Tur                                           22604.45\n",
            "7            Moong                                           17638.09\n",
            "8             Udid                                           15482.25\n",
            "9        Groundnut                                           32588.52\n",
            "10         Soybean                                              20718\n",
            "11          Cotton                                           26476.78\n",
            "12  Coriander Seed                                           17236.61\n",
            "13          Ajwain                                              27852\n",
            "====================\n",
            "====================\n",
            "table  10\n",
            "                            0         1\n",
            "0                       Beans  70910.82\n",
            "1                     Cabbage   63710.1\n",
            "2                 Cauliflower   60283.5\n",
            "3                    Capsicum  96244.67\n",
            "4                     Brinjal  75618.92\n",
            "5                        Okra  50973.45\n",
            "6                   Kh. Onion  38976.16\n",
            "7                   Ivy gourd  68330.43\n",
            "8                      Potato  89096.67\n",
            "9                Sweet Potato  47356.71\n",
            "10                    Pumpkin  75348.73\n",
            "11                     Tomato  82125.69\n",
            "12               Bitter gourd  74200.78\n",
            "13               Bottle gourd  46990.83\n",
            "14              Pointed gourd  45223.84\n",
            "15                Ridge gourd  63444.83\n",
            "16               Sponge gourd  75829.71\n",
            "17                       Peas  38214.89\n",
            "18                Green Chili  70140.69\n",
            "19                  Coriander  23554.54\n",
            "20                  Fenugreek  25019.89\n",
            "21       Leafy Veg. (Spinach)  28404.51\n",
            "22  Other Veg. (Cluster bean)  29119.35\n",
            "====================\n"
          ]
        }
      ]
    },
    {
      "cell_type": "code",
      "source": [],
      "metadata": {
        "id": "EwmplL4dESvT"
      },
      "execution_count": null,
      "outputs": []
    }
  ]
}