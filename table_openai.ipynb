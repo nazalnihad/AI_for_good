{
  "nbformat": 4,
  "nbformat_minor": 0,
  "metadata": {
    "colab": {
      "provenance": [],
      "mount_file_id": "1FjH4VK-qOWZM6inPg_Je5XavxjbaZmsy",
      "authorship_tag": "ABX9TyMBu0KHsSOCKIf6FqGY+YrE",
      "include_colab_link": true
    },
    "kernelspec": {
      "name": "python3",
      "display_name": "Python 3"
    },
    "language_info": {
      "name": "python"
    }
  },
  "cells": [
    {
      "cell_type": "markdown",
      "metadata": {
        "id": "view-in-github",
        "colab_type": "text"
      },
      "source": [
        "<a href=\"https://colab.research.google.com/github/nazalnihad/AI_for_good/blob/main/table_openai.ipynb\" target=\"_parent\"><img src=\"https://colab.research.google.com/assets/colab-badge.svg\" alt=\"Open In Colab\"/></a>"
      ]
    },
    {
      "cell_type": "code",
      "source": [
        "pip install openai"
      ],
      "metadata": {
        "id": "Bfssp8lF8xEj",
        "outputId": "9a86f715-67c6-4247-b165-aa50a452cc0a",
        "colab": {
          "base_uri": "https://localhost:8080/"
        }
      },
      "execution_count": 2,
      "outputs": [
        {
          "output_type": "stream",
          "name": "stdout",
          "text": [
            "Collecting openai\n",
            "  Downloading openai-1.5.0-py3-none-any.whl (223 kB)\n",
            "\u001b[2K     \u001b[90m━━━━━━━━━━━━━━━━━━━━━━━━━━━━━━━━━━━━━━━━\u001b[0m \u001b[32m223.7/223.7 kB\u001b[0m \u001b[31m2.7 MB/s\u001b[0m eta \u001b[36m0:00:00\u001b[0m\n",
            "\u001b[?25hRequirement already satisfied: anyio<5,>=3.5.0 in /usr/local/lib/python3.10/dist-packages (from openai) (3.7.1)\n",
            "Requirement already satisfied: distro<2,>=1.7.0 in /usr/lib/python3/dist-packages (from openai) (1.7.0)\n",
            "Collecting httpx<1,>=0.23.0 (from openai)\n",
            "  Downloading httpx-0.25.2-py3-none-any.whl (74 kB)\n",
            "\u001b[2K     \u001b[90m━━━━━━━━━━━━━━━━━━━━━━━━━━━━━━━━━━━━━━━━\u001b[0m \u001b[32m75.0/75.0 kB\u001b[0m \u001b[31m7.1 MB/s\u001b[0m eta \u001b[36m0:00:00\u001b[0m\n",
            "\u001b[?25hRequirement already satisfied: pydantic<3,>=1.9.0 in /usr/local/lib/python3.10/dist-packages (from openai) (1.10.13)\n",
            "Requirement already satisfied: sniffio in /usr/local/lib/python3.10/dist-packages (from openai) (1.3.0)\n",
            "Requirement already satisfied: tqdm>4 in /usr/local/lib/python3.10/dist-packages (from openai) (4.66.1)\n",
            "Requirement already satisfied: typing-extensions<5,>=4.5 in /usr/local/lib/python3.10/dist-packages (from openai) (4.5.0)\n",
            "Requirement already satisfied: idna>=2.8 in /usr/local/lib/python3.10/dist-packages (from anyio<5,>=3.5.0->openai) (3.6)\n",
            "Requirement already satisfied: exceptiongroup in /usr/local/lib/python3.10/dist-packages (from anyio<5,>=3.5.0->openai) (1.2.0)\n",
            "Requirement already satisfied: certifi in /usr/local/lib/python3.10/dist-packages (from httpx<1,>=0.23.0->openai) (2023.11.17)\n",
            "Collecting httpcore==1.* (from httpx<1,>=0.23.0->openai)\n",
            "  Downloading httpcore-1.0.2-py3-none-any.whl (76 kB)\n",
            "\u001b[2K     \u001b[90m━━━━━━━━━━━━━━━━━━━━━━━━━━━━━━━━━━━━━━━━\u001b[0m \u001b[32m76.9/76.9 kB\u001b[0m \u001b[31m6.8 MB/s\u001b[0m eta \u001b[36m0:00:00\u001b[0m\n",
            "\u001b[?25hCollecting h11<0.15,>=0.13 (from httpcore==1.*->httpx<1,>=0.23.0->openai)\n",
            "  Downloading h11-0.14.0-py3-none-any.whl (58 kB)\n",
            "\u001b[2K     \u001b[90m━━━━━━━━━━━━━━━━━━━━━━━━━━━━━━━━━━━━━━━━\u001b[0m \u001b[32m58.3/58.3 kB\u001b[0m \u001b[31m5.9 MB/s\u001b[0m eta \u001b[36m0:00:00\u001b[0m\n",
            "\u001b[?25hInstalling collected packages: h11, httpcore, httpx, openai\n",
            "\u001b[31mERROR: pip's dependency resolver does not currently take into account all the packages that are installed. This behaviour is the source of the following dependency conflicts.\n",
            "llmx 0.0.15a0 requires cohere, which is not installed.\n",
            "llmx 0.0.15a0 requires tiktoken, which is not installed.\u001b[0m\u001b[31m\n",
            "\u001b[0mSuccessfully installed h11-0.14.0 httpcore-1.0.2 httpx-0.25.2 openai-1.5.0\n"
          ]
        }
      ]
    },
    {
      "cell_type": "code",
      "source": [
        "OPENAI_API_KEY=\"\""
      ],
      "metadata": {
        "id": "IqtcHhbXqRTh"
      },
      "execution_count": 3,
      "outputs": []
    },
    {
      "cell_type": "code",
      "source": [
        "from openai import OpenAI\n",
        "\n",
        "client = OpenAI(api_key=OPENAI_API_KEY)\n",
        "\n",
        "\n",
        "def extract_chunk_from_query(user_query):\n",
        "  text =    \"Computational Thinking (CT) refers to the thought processes involved in expressing solutions as computational steps or algorithms that can be carried out by a computer. This course introduces Computational thinking which requires understanding the capabilities of computers, formulating problems to be addressed by a computer, and designing algorithms that a computer can execute. Computational thinking is at the heart of the computer science practices and is intrinsically connected with it.\"\n",
        "  metadata ={'page': 1, 'source': '1-farm.pdf-5', 'filename': 'farm.pdf'}\n",
        "  return text,metadata\n",
        "    # Replace the following line with your actual logic.\n",
        "\n",
        "# User's query\n",
        "user_query =  \"what is computational thinking\"\n",
        "\n",
        "# Extract a chunk of text from the user's query\n",
        "extracted_chunk,metadata = extract_chunk_from_query(user_query)\n",
        "\n",
        "# convo set\n",
        "conversation = [\n",
        " {\"role\": \"system\", \"content\": f\"You are a helpful assistant answering from the retrieved chunk based on the user query on a rag pipeline. Your task is to generate an answer based on the retrieved chunk of text: {extracted_chunk}. Be as helpful and precise as possible. Remember to include the filename {metadata['filename']} and page number {metadata['page']} in your answer. If the question is out of scope of the rag pipeline, respond with 'sorry, I can't answer this question'\"},\n",
        " {\"role\": \"user\", \"content\": user_query},\n",
        "]\n",
        "\n",
        "# Make a request to the OpenAI chat API\n",
        "completion = client.chat.completions.create(\n",
        "    model=\"gpt-3.5-turbo-1106\",\n",
        "    messages=conversation,\n",
        "    max_tokens=800,\n",
        "    temperature=0.7,\n",
        "    seed=42\n",
        ")\n",
        "\n",
        "# Extract and print the assistant's reply\n",
        "assistant_reply = completion.choices[0].message.content\n"
      ],
      "metadata": {
        "id": "NRDu9ftB8r8I"
      },
      "execution_count": 8,
      "outputs": []
    },
    {
      "cell_type": "code",
      "source": [
        "print(assistant_reply)"
      ],
      "metadata": {
        "id": "KXN0vdqG9eBR",
        "outputId": "78f70ddc-8032-4e25-a3cf-0746222217eb",
        "colab": {
          "base_uri": "https://localhost:8080/"
        }
      },
      "execution_count": 9,
      "outputs": [
        {
          "output_type": "stream",
          "name": "stdout",
          "text": [
            "Computational Thinking (CT) refers to the thought processes involved in expressing solutions as computational steps or algorithms that can be carried out by a computer. This course introduces Computational thinking which requires understanding the capabilities of computers, formulating problems to be addressed by a computer, and designing algorithms that a computer can execute. Computational thinking is at the heart of the computer science practices and is intrinsically connected with it. You can find more information in the file farm.pdf on page 1.\n"
          ]
        }
      ]
    },
    {
      "cell_type": "code",
      "source": [
        "data = {\"filename\": \"Document1.pdf\", \"page_number\": \"42\"}\n",
        "\n",
        "data[\"filename\"]"
      ],
      "metadata": {
        "id": "vZVdWiSdt4Dy",
        "outputId": "b9870be0-a212-4e2f-f8a2-277d663bc869",
        "colab": {
          "base_uri": "https://localhost:8080/",
          "height": 36
        }
      },
      "execution_count": null,
      "outputs": [
        {
          "output_type": "execute_result",
          "data": {
            "text/plain": [
              "'Document1.pdf'"
            ],
            "application/vnd.google.colaboratory.intrinsic+json": {
              "type": "string"
            }
          },
          "metadata": {},
          "execution_count": 27
        }
      ]
    },
    {
      "cell_type": "code",
      "source": [
        "# example responses\n",
        "\"\"\"To achieve better prices, a gat (a group of farmers) can establish collective strength by working together to sell their produce. By collectively selling their crops,\n",
        " the gat can negotiate better prices and increase their overall revenue. This can be done by entering data on the Paani Foundation App, where each member of the gat provides\n",
        " information about their revenue. The gat must also provide supporting bills and documents to demonstrate the collective sale. By doing so, the gat can earn marks based on\n",
        " the percentage of total revenue obtained through collective sales. For more detailed information, please refer to Document1.pdf, page 42.\"\"\"\n",
        "\n",
        "# answer from gpt-3.5 turbo 1106\n",
        "\"\"\"The gat is established to achieve better price realization for the crop through collective strength. By coming together to sell their produce,\n",
        " the members of the gat can leverage their collective power to negotiate better prices. This can ultimately lead to improved financial outcomes for\n",
        "  the farmers. For further details, you can refer to Document1.pdf, page 42.\"\"\"\n",
        "\n",
        "# after setting seed\n",
        "\"\"\"\n",
        "One of the important purposes for which a gat is established is to achieve better price realization for the crop using its collective strength.\n",
        " This is done by the gat getting together to sell its produce, and every farmer must enter data pertaining to his/her revenue on the Paani Foundation App\n",
        "  as part of the spardha. The sum total of the revenue of every member of the gat amounts to the total revenue of the gat. The gat must specify how much of\n",
        "   the total revenue of the gat was obtained by collective sale as a gat along with supporting bills and documents. Marks will be given to the gat depending\n",
        "   on the percentage of the total revenue of the gat obtained by collective sale as a gat. You can find more detailed information in Document1.pdf on page 42.\n",
        "\"\"\"\n",
        "\n",
        "\"\"\"\n",
        "One of the important purposes for which a gat is established is to achieve better price realization for the crop using its collective strength.\n",
        " This is done by the gat getting together to sell its produce, and every farmer must enter data pertaining to his/her revenue on the Paani Foundation\n",
        "  App as part of the spardha. The sum total of the revenue of every member of the gat amounts to the total revenue of the gat. The gat must specify how\n",
        "   much of the total revenue of the gat was obtained by collective sale as a gat along with supporting bills and documents. Marks will be given to the\n",
        "   gat depending on the percentage of the total revenue of the gat obtained by collective sale as a gat. This information can be found in Document1.pdf on page 42.\n",
        "\"\"\"\n",
        "\n",
        "\"\"\"\n",
        "One of the important purposes for which a gat is established is to achieve better price realization for the crop using its collective strength.\n",
        " This is done by the gat getting together to sell its produce, thereby leveraging its collective power to obtain better prices. Every farmer must\n",
        "  enter data pertaining to his/her revenue on the Paani Foundation App as part of the spardha. The sum total of the revenue of every member of the\n",
        "   gat amounts to the total revenue of the gat. The gat must specify how much of the total revenue was obtained by collective sale as a gat, along\n",
        "   with supporting bills and documents. Marks will be given to the gat depending on the percentage of the total revenue obtained by collective sale as\n",
        "    a gat. This information can be found in Document1.pdf on page 42.\n",
        "\"\"\"\n",
        "# 800 token\n",
        "\n",
        "\"\"\"\n",
        "One of the important purposes for which a gat is established is to achieve better price realization for the crop using its collective strength.\n",
        "This is done by the gat getting together to sell its produce, thereby leveraging its collective power to obtain better prices. Every farmer must\n",
        " enter data pertaining to his/her revenue on the Paani Foundation App as part of the spardha. The sum total of the revenue of every member of the\n",
        " gat amounts to the total revenue of the gat. The gat must specify how much of the total revenue was obtained by collective sale as a gat, along with\n",
        " supporting bills and documents. Marks will be given to the gat depending on the percentage of the total revenue obtained by collective sale as a gat.\n",
        "  This information can be found in Document1.pdf on page 42\n",
        "\"\"\"\n",
        "\"\"\"\n",
        "One of the important purposes for which a gat is established is to achieve better price realization for the crop using its collective strength.\n",
        "This is done by the gat getting together to sell its produce. Every farmer must enter data pertaining to his/her revenue on the Paani Foundation\n",
        " App as part of the spardha. The sum total of the revenue of every member of the gat amounts to the total revenue of the gat. The gat must specify\n",
        "  how much of the total revenue of the gat was obtained by collective sale as a gat along with supporting bills and documents. Marks will be given to\n",
        "  the gat depending on the percentage of the total revenue of the gat obtained by collective sale as a gat.\n",
        " For more detailed information, you can refer to Document1.pdf, page 42.\n",
        "\"\"\"\n",
        "\n",
        "\"\"\"\n",
        "One of the important purposes for which a gat is established is to achieve better price realization for the crop using its collective strength.\n",
        " This is done by the gat getting together to sell its produce, thereby leveraging its collective power to obtain better prices. Every farmer\n",
        "  must enter data pertaining to his/her revenue on the Paani Foundation App as part of the spardha. The sum total of the revenue of every member\n",
        "   of the gat amounts to the total revenue of the gat. The gat must specify how much of the total revenue was obtained by collective sale as a gat,\n",
        "    along with supporting bills and documents. Marks will be given to the gat depending on the percentage of the total revenue obtained by collective sale\n",
        "     as a gat. For further details, you can refer to Document1.pdf, page 42.\n",
        "\"\"\"\n",
        "\n",
        "\"\"\"\n",
        "I found the relevant information in the file farm.pdf on page 1. The competition rules state that the gat\n",
        "must be of farmers cultivating a single crop. Farmers in a gat may cultivate more than one crop, however all\n",
        " farmers in the gat must cultivate the crops in the same ratio.\n",
        "\"\"\"\n",
        "\n",
        "\"\"\"\n",
        "I found the information you need in the file \"farm.pdf\" on page 1. The competition rules state that the gat must be of farmers cultivating a single\n",
        "crop. Farmers in a gat may cultivate more than one crop, however all farmers in the gat must cultivate the crops in the same ratio.\n",
        "\"\"\"\n"
      ],
      "metadata": {
        "id": "Rjdk0thYv_7T"
      },
      "execution_count": null,
      "outputs": []
    },
    {
      "cell_type": "code",
      "source": [
        "def get_assistant_reply(user_query):\n",
        "   # Extract a chunk of text from the user's query\n",
        "   extracted_chunk, metadata = extract_chunk_from_query(user_query)\n",
        "\n",
        "   # convo set\n",
        "   conversation = [\n",
        "       {\"role\": \"system\", \"content\": f\"You are a helpful assistant answering from the retrieved chunk based on the user query on a rag pipeline. Your task is to generate an answer based on the retrieved chunk of text: {extracted_chunk}. Be as helpful and precise as possible. Remember to include the filename {metadata['filename']} and page number {metadata['page']} in your answer. If the question is out of scope of the rag pipeline, respond with 'sorry, I can't answer this question'\"},\n",
        "       {\"role\": \"user\", \"content\": user_query},\n",
        "   ]\n",
        "\n",
        "   # Make a request to the OpenAI chat API\n",
        "   completion = client.chat.completions.create(\n",
        "       model=\"gpt-3.5-turbo-1106\",\n",
        "       messages=conversation,\n",
        "       max_tokens=800,\n",
        "       temperature=0.7,\n",
        "       seed=42\n",
        "   )\n",
        "\n",
        "   # Extract and return the assistant's reply\n",
        "   assistant_reply = completion.choices[0].message.content\n",
        "   return assistant_reply\n"
      ],
      "metadata": {
        "id": "q61vCtQbF-4d"
      },
      "execution_count": 10,
      "outputs": []
    },
    {
      "cell_type": "code",
      "source": [
        "user_query = \"what is computational thinking\"\n",
        "assistant_reply = get_assistant_reply(user_query)\n",
        "print(assistant_reply)\n"
      ],
      "metadata": {
        "id": "i6thXnYfv0Ua",
        "outputId": "61101395-7943-44d4-b0be-f098d3e19c47",
        "colab": {
          "base_uri": "https://localhost:8080/"
        }
      },
      "execution_count": 11,
      "outputs": [
        {
          "output_type": "stream",
          "name": "stdout",
          "text": [
            "Computational Thinking (CT) refers to the thought processes involved in expressing solutions as computational steps or algorithms that can be carried out by a computer. This course introduces Computational thinking which requires understanding the capabilities of computers, formulating problems to be addressed by a computer, and designing algorithms that a computer can execute. Computational thinking is at the heart of the computer science practices and is intrinsically connected with it. For further details, you can refer to the file farm.pdf, page 1.\n"
          ]
        }
      ]
    },
    {
      "cell_type": "code",
      "source": [],
      "metadata": {
        "id": "W9dgNRJOv2O7"
      },
      "execution_count": null,
      "outputs": []
    }
  ]
}