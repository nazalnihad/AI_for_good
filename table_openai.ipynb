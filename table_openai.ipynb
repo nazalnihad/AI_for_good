{
  "nbformat": 4,
  "nbformat_minor": 0,
  "metadata": {
    "colab": {
      "provenance": [],
      "mount_file_id": "1FjH4VK-qOWZM6inPg_Je5XavxjbaZmsy",
      "authorship_tag": "ABX9TyM0jGDWEM/XELDyEcatnWLy",
      "include_colab_link": true
    },
    "kernelspec": {
      "name": "python3",
      "display_name": "Python 3"
    },
    "language_info": {
      "name": "python"
    }
  },
  "cells": [
    {
      "cell_type": "markdown",
      "metadata": {
        "id": "view-in-github",
        "colab_type": "text"
      },
      "source": [
        "<a href=\"https://colab.research.google.com/github/nazalnihad/AI_for_good/blob/main/table_openai.ipynb\" target=\"_parent\"><img src=\"https://colab.research.google.com/assets/colab-badge.svg\" alt=\"Open In Colab\"/></a>"
      ]
    },
    {
      "cell_type": "code",
      "source": [
        "pip install openai"
      ],
      "metadata": {
        "id": "Bfssp8lF8xEj"
      },
      "execution_count": null,
      "outputs": []
    },
    {
      "cell_type": "code",
      "source": [
        "OPENAI_API_KEY=\"\""
      ],
      "metadata": {
        "id": "IqtcHhbXqRTh"
      },
      "execution_count": 2,
      "outputs": []
    },
    {
      "cell_type": "code",
      "source": [
        "from openai import OpenAI\n",
        "\n",
        "client = OpenAI(api_key=OPENAI_API_KEY)\n",
        "\n",
        "\n",
        "def extract_chunk_from_query(user_query):\n",
        "    # Replace the following line with your actual logic.\n",
        "    return \"One of the important purposes for which a gat is established is to achieve better price realisation for the crop using its collective strength. For this purpose, it is important that the gat gets together to sell its produce. Every farmer must as part of the spardha enter data pertaining to his/her revenue on the Paani Foundation App. The sum total of therevenue of every member of the gat amounts to the total revenue of the gat. The gatmust specify how much of the total revenue of the gat was obtained by collective sale as a gat along with supporting bills and documents. Marks will be given to the gat depending on the percentage of the total revenue of the gat obtained by collective sale as a gat\"\n",
        "\n",
        "# User's query\n",
        "user_query = \"How is gat established to achieved better price?\"\n",
        "metadata = {\"filename\": \"Document1.pdf\", \"page_number\": \"42\"}\n",
        "\n",
        "# Extract a chunk of text from the user's query\n",
        "extracted_chunk = extract_chunk_from_query(user_query)\n",
        "\n",
        "# convo set\n",
        "conversation = [\n",
        " {\"role\": \"system\", \"content\": f\"You are a helpful assistant. Your task is to generate an answer based on the retrieved chunk of text: {extracted_chunk}. Be as helpful and precise as possible. Remember to include the filename {metadata['filename']} and page number {metadata['page_number']} in your answer. If the question is out of scope of the rag pipeline, respond with 'sorry, I can't answer this question'\"},\n",
        " {\"role\": \"user\", \"content\": user_query},\n",
        "]\n",
        "\n",
        "# Make a request to the OpenAI chat API\n",
        "completion = client.chat.completions.create(\n",
        "    model=\"gpt-3.5-turbo-1106\",\n",
        "    messages=conversation,\n",
        "    max_tokens=500,\n",
        "    temperature=0.7,\n",
        "    seed=42\n",
        ")\n",
        "\n",
        "# Extract and print the assistant's reply\n",
        "assistant_reply = completion.choices[0].message.content\n"
      ],
      "metadata": {
        "id": "NRDu9ftB8r8I"
      },
      "execution_count": 29,
      "outputs": []
    },
    {
      "cell_type": "code",
      "source": [
        "print(assistant_reply)"
      ],
      "metadata": {
        "id": "KXN0vdqG9eBR",
        "outputId": "ecce39e0-632b-432a-d466-5fb42d976429",
        "colab": {
          "base_uri": "https://localhost:8080/"
        }
      },
      "execution_count": 30,
      "outputs": [
        {
          "output_type": "stream",
          "name": "stdout",
          "text": [
            "The gat is established to achieve better price realization for the crop using its collective strength. This is done by getting together to sell its produce. Every farmer must enter data pertaining to his/her revenue on the Paani Foundation App as part of the spardha. The sum total of the revenue of every member of the gat amounts to the total revenue of the gat. The gat must specify how much of the total revenue was obtained by collective sale as a gat along with supporting bills and documents. Marks will be given to the gat depending on the percentage of the total revenue obtained by collective sale as a gat. This information can be found in Document1.pdf, page 42.\n"
          ]
        }
      ]
    },
    {
      "cell_type": "code",
      "source": [
        "data = {\"filename\": \"Document1.pdf\", \"page_number\": \"42\"}\n",
        "\n",
        "data[\"filename\"]"
      ],
      "metadata": {
        "id": "vZVdWiSdt4Dy",
        "outputId": "b9870be0-a212-4e2f-f8a2-277d663bc869",
        "colab": {
          "base_uri": "https://localhost:8080/",
          "height": 36
        }
      },
      "execution_count": null,
      "outputs": [
        {
          "output_type": "execute_result",
          "data": {
            "text/plain": [
              "'Document1.pdf'"
            ],
            "application/vnd.google.colaboratory.intrinsic+json": {
              "type": "string"
            }
          },
          "metadata": {},
          "execution_count": 27
        }
      ]
    },
    {
      "cell_type": "code",
      "source": [
        "# answer from gpt-3.5 turbo\n",
        "\"\"\"To achieve better prices, a gat (a group of farmers) can establish collective strength by working together to sell their produce. By collectively selling their crops,\n",
        " the gat can negotiate better prices and increase their overall revenue. This can be done by entering data on the Paani Foundation App, where each member of the gat provides\n",
        " information about their revenue. The gat must also provide supporting bills and documents to demonstrate the collective sale. By doing so, the gat can earn marks based on\n",
        " the percentage of total revenue obtained through collective sales. For more detailed information, please refer to Document1.pdf, page 42.\"\"\"\n",
        "\n",
        "# answer from gpt-3.5 turbo 1106\n",
        "\"\"\"The gat is established to achieve better price realization for the crop through collective strength. By coming together to sell their produce,\n",
        " the members of the gat can leverage their collective power to negotiate better prices. This can ultimately lead to improved financial outcomes for\n",
        "  the farmers. For further details, you can refer to Document1.pdf, page 42.\"\"\"\n"
      ],
      "metadata": {
        "id": "Rjdk0thYv_7T"
      },
      "execution_count": null,
      "outputs": []
    },
    {
      "cell_type": "code",
      "source": [
        "# The gat is established to achieve better price realization for the crop using its collective strength. This is accomplished by the gat getting together to sell its produce.\n",
        "# #  Every farmer must enter data pertaining to his/her revenue on the Paani Foundation App as part of the spardha. The sum total of the revenue of every member of the gat amounts\n",
        "# to the total revenue of the gat. The gat must specify how much of the total revenue of the gat was obtained by collective sale as a gat along with supporting bills and documents.\n",
        "#  Marks will be given to the gat depending on the percentage of the total revenue of the gat obtained by collective sale as a gat.\n",
        "# This information is from Document1.pdf, page number 42.\n",
        "\n"
      ],
      "metadata": {
        "id": "q61vCtQbF-4d"
      },
      "execution_count": null,
      "outputs": []
    }
  ]
}