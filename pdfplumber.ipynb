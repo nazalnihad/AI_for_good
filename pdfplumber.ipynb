{
  "nbformat": 4,
  "nbformat_minor": 0,
  "metadata": {
    "colab": {
      "provenance": [],
      "authorship_tag": "ABX9TyP3T4MMD51TTTahkuVUSdky",
      "include_colab_link": true
    },
    "kernelspec": {
      "name": "python3",
      "display_name": "Python 3"
    },
    "language_info": {
      "name": "python"
    }
  },
  "cells": [
    {
      "cell_type": "markdown",
      "metadata": {
        "id": "view-in-github",
        "colab_type": "text"
      },
      "source": [
        "<a href=\"https://colab.research.google.com/github/nazalnihad/AI_for_good/blob/main/pdfplumber.ipynb\" target=\"_parent\"><img src=\"https://colab.research.google.com/assets/colab-badge.svg\" alt=\"Open In Colab\"/></a>"
      ]
    },
    {
      "cell_type": "code",
      "execution_count": null,
      "metadata": {
        "colab": {
          "base_uri": "https://localhost:8080/"
        },
        "id": "2rJZ6_zBYBhn",
        "outputId": "2a57d74d-aec8-498a-bad4-f5bbc74d544e"
      },
      "outputs": [
        {
          "output_type": "stream",
          "name": "stdout",
          "text": [
            "Collecting pdfplumber\n",
            "  Downloading pdfplumber-0.10.3-py3-none-any.whl (48 kB)\n",
            "\u001b[2K     \u001b[90m━━━━━━━━━━━━━━━━━━━━━━━━━━━━━━━━━━━━━━━━\u001b[0m \u001b[32m49.0/49.0 kB\u001b[0m \u001b[31m839.2 kB/s\u001b[0m eta \u001b[36m0:00:00\u001b[0m\n",
            "\u001b[?25hCollecting pdfminer.six==20221105 (from pdfplumber)\n",
            "  Downloading pdfminer.six-20221105-py3-none-any.whl (5.6 MB)\n",
            "\u001b[2K     \u001b[90m━━━━━━━━━━━━━━━━━━━━━━━━━━━━━━━━━━━━━━━━\u001b[0m \u001b[32m5.6/5.6 MB\u001b[0m \u001b[31m35.6 MB/s\u001b[0m eta \u001b[36m0:00:00\u001b[0m\n",
            "\u001b[?25hRequirement already satisfied: Pillow>=9.1 in /usr/local/lib/python3.10/dist-packages (from pdfplumber) (9.4.0)\n",
            "Collecting pypdfium2>=4.18.0 (from pdfplumber)\n",
            "  Downloading pypdfium2-4.25.0-py3-none-manylinux_2_17_x86_64.whl (3.0 MB)\n",
            "\u001b[2K     \u001b[90m━━━━━━━━━━━━━━━━━━━━━━━━━━━━━━━━━━━━━━━━\u001b[0m \u001b[32m3.0/3.0 MB\u001b[0m \u001b[31m49.2 MB/s\u001b[0m eta \u001b[36m0:00:00\u001b[0m\n",
            "\u001b[?25hRequirement already satisfied: charset-normalizer>=2.0.0 in /usr/local/lib/python3.10/dist-packages (from pdfminer.six==20221105->pdfplumber) (3.3.2)\n",
            "Requirement already satisfied: cryptography>=36.0.0 in /usr/local/lib/python3.10/dist-packages (from pdfminer.six==20221105->pdfplumber) (41.0.7)\n",
            "Requirement already satisfied: cffi>=1.12 in /usr/local/lib/python3.10/dist-packages (from cryptography>=36.0.0->pdfminer.six==20221105->pdfplumber) (1.16.0)\n",
            "Requirement already satisfied: pycparser in /usr/local/lib/python3.10/dist-packages (from cffi>=1.12->cryptography>=36.0.0->pdfminer.six==20221105->pdfplumber) (2.21)\n",
            "Installing collected packages: pypdfium2, pdfminer.six, pdfplumber\n",
            "Successfully installed pdfminer.six-20221105 pdfplumber-0.10.3 pypdfium2-4.25.0\n"
          ]
        }
      ],
      "source": [
        "pip install pdfplumber"
      ]
    },
    {
      "cell_type": "code",
      "source": [
        "import pdfplumber\n",
        "\n",
        "def extract_tables(pdf_path):\n",
        "    with pdfplumber.open(pdf_path) as pdf:\n",
        "        for page_number in range(len(pdf.pages)):\n",
        "            page = pdf.pages[page_number]\n",
        "            tables = page.extract_tables()\n",
        "\n",
        "            if tables:\n",
        "                print(f\"Tables from Page {page_number + 1}:\")\n",
        "                for i, table in enumerate(tables):\n",
        "                    print(f\"Table {i + 1}:\")\n",
        "                    for row in table:\n",
        "                        print(row)\n",
        "                    print(\"-\" * 20)\n",
        "\n",
        "if __name__ == \"__main__\":\n",
        "    pdf_path = \"/content/MSc5yrCSSchemeandSyllabus2021.pdf\"  # Replace with the path to your PDF file\n",
        "    extract_tables(pdf_path)\n"
      ],
      "metadata": {
        "id": "mv0QiSX9YFvC"
      },
      "execution_count": null,
      "outputs": []
    },
    {
      "cell_type": "code",
      "source": [
        "pdf_path = \"nutrition_tb.pdf\"  # Replace with the path to your PDF file\n",
        "extract_tables(pdf_path)\n"
      ],
      "metadata": {
        "id": "LvSdVEw-Yh9R"
      },
      "execution_count": null,
      "outputs": []
    },
    {
      "cell_type": "code",
      "source": [
        "def extract_tables(pdf_path):\n",
        "    all_tables = []\n",
        "    with pdfplumber.open(pdf_path) as pdf:\n",
        "        for page_number in range(len(pdf.pages)):\n",
        "            page = pdf.pages[page_number]\n",
        "            tables = page.extract_tables()\n",
        "\n",
        "            if tables:\n",
        "                filtered_tables = filter_tables(tables)\n",
        "                for table in filtered_tables:\n",
        "                    df = pd.DataFrame(table[1:], columns=table[0])\n",
        "                    all_tables.append(df)\n",
        "\n",
        "    return all_tables"
      ],
      "metadata": {
        "id": "vvr5yywiZAZt"
      },
      "execution_count": null,
      "outputs": []
    },
    {
      "cell_type": "code",
      "source": [
        "def filter_tables(tables):\n",
        "    filtered_tables = []\n",
        "    for table in tables:\n",
        "        # Check if any cell in the table is not None and not an empty string\n",
        "        if any(any(cell != None and cell != '' for cell in row) for row in table):\n",
        "            filtered_tables.append(table)\n",
        "    return filtered_tables"
      ],
      "metadata": {
        "id": "-7IHD0i2aB7b"
      },
      "execution_count": null,
      "outputs": []
    },
    {
      "cell_type": "code",
      "source": [
        "if __name__ == \"__main__\":\n",
        "    pdf_path = \"nutrition_tb.pdf\"  # Replace with the path to your PDF file\n",
        "    extracted_tables = extract_tables(pdf_path)\n",
        "\n",
        "    for i, table in enumerate(extracted_tables):\n",
        "        print(f\"DataFrame {i + 1}:\")\n",
        "        print(table)\n",
        "        print(\"-\" * 30)"
      ],
      "metadata": {
        "id": "rUF7NtcYd-X0"
      },
      "execution_count": null,
      "outputs": []
    },
    {
      "cell_type": "code",
      "source": [
        "import pdfplumber\n",
        "import pandas as pd\n",
        "import re\n",
        "\n",
        "def fill_none_values(rows):\n",
        "  filled_rows = []\n",
        "  current_values = [None] * len(rows[0])\n",
        "\n",
        "  for row in rows:\n",
        "      # print(row)\n",
        "      for i, cell in enumerate(row):\n",
        "          if cell is not None:\n",
        "              current_values[i] = cell.replace('\\n', ' ') # Replace '\\n' with a space\n",
        "          else:\n",
        "              row[i] = current_values[i]\n",
        "\n",
        "      # Only append the row if it contains a word\n",
        "      if any(isinstance(cell, str) and re.search(r'\\b\\w+\\b', cell) for cell in row):\n",
        "          filled_rows.append(row)\n",
        "\n",
        "  # Only append the table if it contains more than one row of meaningful data\n",
        "  if len(filled_rows) > 1:\n",
        "      return filled_rows\n",
        "  else:\n",
        "      return []\n",
        "\n",
        "def is_similar(row1, row2, threshold=0.6):\n",
        "    str1 = ' '.join(str(cell) for cell in row1)\n",
        "    str2 = ' '.join(str(cell) for cell in row2)\n",
        "\n",
        "    distance = Levenshtein.distance(str1, str2)\n",
        "    max_length = max(len(str1), len(str2))\n",
        "\n",
        "    similarity_ratio = 1 - (distance / max_length)\n",
        "    similarity_ratio = difflib.SequenceMatcher(None, str1, str2).ratio()\n",
        "\n",
        "    # print(similarity_ratio)\n",
        "\n",
        "    return similarity_ratio >= threshold\n",
        "\n",
        "def extract_tables(pdf_path):\n",
        "    all_tables = []\n",
        "\n",
        "    with pdfplumber.open(pdf_path) as pdf:\n",
        "        for page_number in range(len(pdf.pages)):\n",
        "            page = pdf.pages[page_number]\n",
        "\n",
        "            # Adjust table extraction settings\n",
        "            table_settings = {  # Use text-based horizontal lines\n",
        "                 \"vertical_strategy\": \"lines_strict\",\n",
        "    \"horizontal_strategy\": \"lines_strict\" # Adjust tolerance for intersection detection\n",
        "                                }\n",
        "\n",
        "            tables = page.extract_tables(table_settings=table_settings)\n",
        "\n",
        "            if tables:\n",
        "                for table in tables:\n",
        "                    filled_table = fill_none_values(table[1:])\n",
        "                    df = pd.DataFrame(filled_table, columns=table[0])\n",
        "                    all_tables.append(df)\n",
        "\n",
        "    # finalised_tables = []\n",
        "    # i = 0\n",
        "\n",
        "    # while i < len(all_tables):\n",
        "    #     if all_tables[i].empty:\n",
        "    #         i += 1\n",
        "    #         continue\n",
        "\n",
        "    #     # Check if there's a next table and if it can be concatenated\n",
        "    #     if i < len(all_tables) - 1 and not all_tables[i + 1].empty:\n",
        "    #         last_row = all_tables[i].iloc[-1]\n",
        "    #         first_row_next = all_tables[i + 1].iloc[0]\n",
        "\n",
        "    #         if (\n",
        "    #             len(last_row) == len(first_row_next)\n",
        "    #             and (is_similar(last_row, first_row_next))\n",
        "    #         ):\n",
        "    #             concatenated_table = pd.concat([all_tables[i], all_tables[i + 1]]).reset_index(drop=True)\n",
        "    #             finalised_tables.append(concatenated_table)\n",
        "    #             i += 2  # Skip the next table as it's already concatenated\n",
        "    #             continue\n",
        "\n",
        "        # Add the current table as it is\n",
        "        # finalised_tables.append(all_tables[i])\n",
        "        # i += 1\n",
        "\n",
        "    return all_tables"
      ],
      "metadata": {
        "id": "L4BhpVL7eJmJ"
      },
      "execution_count": null,
      "outputs": []
    },
    {
      "cell_type": "code",
      "source": [
        "pip install python-Levenshtein"
      ],
      "metadata": {
        "colab": {
          "base_uri": "https://localhost:8080/"
        },
        "id": "DRKgw_aOrWx_",
        "outputId": "d1d84eea-5565-430a-a75a-0ad105aae8ae"
      },
      "execution_count": null,
      "outputs": [
        {
          "output_type": "stream",
          "name": "stdout",
          "text": [
            "Collecting python-Levenshtein\n",
            "  Downloading python_Levenshtein-0.23.0-py3-none-any.whl (9.4 kB)\n",
            "Collecting Levenshtein==0.23.0 (from python-Levenshtein)\n",
            "  Downloading Levenshtein-0.23.0-cp310-cp310-manylinux_2_17_x86_64.manylinux2014_x86_64.whl (169 kB)\n",
            "\u001b[2K     \u001b[90m━━━━━━━━━━━━━━━━━━━━━━━━━━━━━━━━━━━━━━━━\u001b[0m \u001b[32m169.4/169.4 kB\u001b[0m \u001b[31m2.9 MB/s\u001b[0m eta \u001b[36m0:00:00\u001b[0m\n",
            "\u001b[?25hCollecting rapidfuzz<4.0.0,>=3.1.0 (from Levenshtein==0.23.0->python-Levenshtein)\n",
            "  Downloading rapidfuzz-3.5.2-cp310-cp310-manylinux_2_17_x86_64.manylinux2014_x86_64.whl (3.3 MB)\n",
            "\u001b[2K     \u001b[90m━━━━━━━━━━━━━━━━━━━━━━━━━━━━━━━━━━━━━━━━\u001b[0m \u001b[32m3.3/3.3 MB\u001b[0m \u001b[31m11.5 MB/s\u001b[0m eta \u001b[36m0:00:00\u001b[0m\n",
            "\u001b[?25hInstalling collected packages: rapidfuzz, Levenshtein, python-Levenshtein\n",
            "Successfully installed Levenshtein-0.23.0 python-Levenshtein-0.23.0 rapidfuzz-3.5.2\n"
          ]
        }
      ]
    },
    {
      "cell_type": "code",
      "source": [
        "import pdfplumber\n",
        "import pandas as pd\n",
        "import re"
      ],
      "metadata": {
        "id": "kan1GHTQj-RD"
      },
      "execution_count": null,
      "outputs": []
    },
    {
      "cell_type": "code",
      "source": [
        "if __name__ == \"__main__\":\n",
        "    pdf_path = \"farm.pdf\"  # Replace with the path to your PDF file\n",
        "    extracted_tables = extract_tables(pdf_path)\n",
        "\n",
        "    for i, table in enumerate(extracted_tables):\n",
        "        print(f\"DataFrame {i + 1}:\")\n",
        "        print(table)\n",
        "        print(\"-\" * 30)\n"
      ],
      "metadata": {
        "colab": {
          "base_uri": "https://localhost:8080/"
        },
        "id": "6Sft_Xxvignp",
        "outputId": "c9dc2f64-87db-4a4f-91c8-f6752f947de9"
      },
      "execution_count": null,
      "outputs": [
        {
          "output_type": "stream",
          "name": "stdout",
          "text": [
            "DataFrame 1:\n",
            "  Percentage of farming inputs purchased through\\nthe gat Marks\n",
            "0                                              75% +         10\n",
            "1                                       60% + to 75%          8\n",
            "2                                       50% + to 60%          6\n",
            "3                                       40% + to 50%          4\n",
            "4                                        30% त े 40%          2\n",
            "5                                       Less than 30          0\n",
            "------------------------------\n",
            "DataFrame 2:\n",
            "  Percentage of irrigated land under water saving technologies Marks\n",
            "0                                              75% +               5\n",
            "1                                      70% + त े 75%               4\n",
            "2                                      65% + त े 70%               3\n",
            "3                                      60% + त े 65%               2\n",
            "4                                        55% त े 60%               1\n",
            "5                                      Less than 55%               0\n",
            "------------------------------\n",
            "DataFrame 3:\n",
            "  Percentage of the total revenue of the gat that is\\nobtained by collective sale as a gat  \\\n",
            "0                                              75% +                                         \n",
            "1                                       60% + to 75%                                         \n",
            "2                                       50% + to 60%                                         \n",
            "3                                                NaN                                         \n",
            "4                                                NaN                                         \n",
            "\n",
            "  Marks   40% + to 50%    4  \n",
            "0    10            NaN  NaN  \n",
            "1     8            NaN  NaN  \n",
            "2     6            NaN  NaN  \n",
            "3   NaN     30% to 40%    2  \n",
            "4   NaN  Less than 30%    0  \n",
            "------------------------------\n",
            "DataFrame 4:\n",
            "  Percentage of Members of the gat who enter cost,\\nrevenue yield data for the previous Kharif Crop  \\\n",
            "0                                              50% +                                                  \n",
            "1                                       40% + to 50%                                                  \n",
            "2                                       30% + to 40%                                                  \n",
            "3                                                NaN                                                  \n",
            "4                                                NaN                                                  \n",
            "\n",
            "  Marks   20% + to 30%    2  \n",
            "0     5            NaN  NaN  \n",
            "1     4            NaN  NaN  \n",
            "2     3            NaN  NaN  \n",
            "3   NaN     10% to 20%    1  \n",
            "4   NaN  Less than 10%    0  \n",
            "------------------------------\n",
            "DataFrame 5:\n",
            "  Profit per acre (Rs) Marks\n",
            "0             50,000 +    20\n",
            "1   40,000 + to 50,000    16\n",
            "2   30,000 + to 40,000    12\n",
            "3    20,000+ to 30,000     8\n",
            "4    10,000+ to 20,000     4\n",
            "5       10,000 or less     0\n",
            "------------------------------\n",
            "DataFrame 6:\n",
            "  Profit percentage Marks\n",
            "0             100%+    20\n",
            "1      60%+ to 100%    15\n",
            "2       40%+ to 60%    12\n",
            "------------------------------\n",
            "DataFrame 7:\n",
            "       25%+ to 40%  8\n",
            "0  10%+ to त े 25%  5\n",
            "1      10% or less  0\n",
            "------------------------------\n",
            "DataFrame 8:\n",
            "      Name of Crop  \\\n",
            "0            Bajra   \n",
            "1            Maize   \n",
            "2        Kh. Paddy   \n",
            "3        Kh. Jowar   \n",
            "4             Ragi   \n",
            "5              Tur   \n",
            "6            Moong   \n",
            "7             Udid   \n",
            "8        Groundnut   \n",
            "9          Soybean   \n",
            "10          Cotton   \n",
            "11  Coriander Seed   \n",
            "12          Ajwain   \n",
            "\n",
            "   Production Cost/Acre in Rs\\nBased on Govt. of Maharashtra Data  \n",
            "0                                            14317.39              \n",
            "1                                            24302.07              \n",
            "2                                            23260.31              \n",
            "3                                            18182.56              \n",
            "4                                            11099.19              \n",
            "5                                            22604.45              \n",
            "6                                            17638.09              \n",
            "7                                            15482.25              \n",
            "8                                            32588.52              \n",
            "9                                               20718              \n",
            "10                                           26476.78              \n",
            "11                                           17236.61              \n",
            "12                                              27852              \n",
            "------------------------------\n",
            "DataFrame 9:\n",
            "                        Beans  70910.82\n",
            "0                     Cabbage   63710.1\n",
            "1                 Cauliflower   60283.5\n",
            "2                    Capsicum  96244.67\n",
            "3                     Brinjal  75618.92\n",
            "4                        Okra  50973.45\n",
            "5                   Kh. Onion  38976.16\n",
            "6                   Ivy gourd  68330.43\n",
            "7                      Potato  89096.67\n",
            "8                Sweet Potato  47356.71\n",
            "9                     Pumpkin  75348.73\n",
            "10                     Tomato  82125.69\n",
            "11               Bitter gourd  74200.78\n",
            "12               Bottle gourd  46990.83\n",
            "13              Pointed gourd  45223.84\n",
            "14                Ridge gourd  63444.83\n",
            "15               Sponge gourd  75829.71\n",
            "16                       Peas  38214.89\n",
            "17                Green Chili  70140.69\n",
            "18                  Coriander  23554.54\n",
            "19                  Fenugreek  25019.89\n",
            "20       Leafy Veg. (Spinach)  28404.51\n",
            "21  Other Veg. (Cluster bean)  29119.35\n",
            "------------------------------\n"
          ]
        }
      ]
    },
    {
      "cell_type": "code",
      "source": [],
      "metadata": {
        "id": "C6JJH9tek_60"
      },
      "execution_count": null,
      "outputs": []
    }
  ]
}